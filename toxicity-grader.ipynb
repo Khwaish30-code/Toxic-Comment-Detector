{
 "cells": [
  {
   "attachments": {},
   "cell_type": "markdown",
   "metadata": {},
   "source": [
    "**Importing Dependencies and Bring in Data**"
   ]
  },
  {
   "cell_type": "code",
   "execution_count": 2,
   "metadata": {},
   "outputs": [],
   "source": [
    "import os\n",
    "import pandas as pd \n",
    "import tensorflow as tf\n",
    "import numpy as np"
   ]
  },
  {
   "cell_type": "code",
   "execution_count": 3,
   "metadata": {},
   "outputs": [],
   "source": [
    "df = pd.read_csv('data.csv')"
   ]
  },
  {
   "cell_type": "code",
   "execution_count": 4,
   "metadata": {},
   "outputs": [
    {
     "data": {
      "text/html": [
       "<div>\n",
       "<style scoped>\n",
       "    .dataframe tbody tr th:only-of-type {\n",
       "        vertical-align: middle;\n",
       "    }\n",
       "\n",
       "    .dataframe tbody tr th {\n",
       "        vertical-align: top;\n",
       "    }\n",
       "\n",
       "    .dataframe thead th {\n",
       "        text-align: right;\n",
       "    }\n",
       "</style>\n",
       "<table border=\"1\" class=\"dataframe\">\n",
       "  <thead>\n",
       "    <tr style=\"text-align: right;\">\n",
       "      <th></th>\n",
       "      <th>id</th>\n",
       "      <th>comment_text</th>\n",
       "      <th>toxic</th>\n",
       "      <th>severe_toxic</th>\n",
       "      <th>obscene</th>\n",
       "      <th>threat</th>\n",
       "      <th>insult</th>\n",
       "      <th>identity_hate</th>\n",
       "    </tr>\n",
       "  </thead>\n",
       "  <tbody>\n",
       "    <tr>\n",
       "      <th>0</th>\n",
       "      <td>0000997932d777bf</td>\n",
       "      <td>Explanation\\nWhy the edits made under my usern...</td>\n",
       "      <td>0</td>\n",
       "      <td>0</td>\n",
       "      <td>0</td>\n",
       "      <td>0</td>\n",
       "      <td>0</td>\n",
       "      <td>0</td>\n",
       "    </tr>\n",
       "    <tr>\n",
       "      <th>1</th>\n",
       "      <td>000103f0d9cfb60f</td>\n",
       "      <td>D'aww! He matches this background colour I'm s...</td>\n",
       "      <td>0</td>\n",
       "      <td>0</td>\n",
       "      <td>0</td>\n",
       "      <td>0</td>\n",
       "      <td>0</td>\n",
       "      <td>0</td>\n",
       "    </tr>\n",
       "    <tr>\n",
       "      <th>2</th>\n",
       "      <td>000113f07ec002fd</td>\n",
       "      <td>Hey man, I'm really not trying to edit war. It...</td>\n",
       "      <td>0</td>\n",
       "      <td>0</td>\n",
       "      <td>0</td>\n",
       "      <td>0</td>\n",
       "      <td>0</td>\n",
       "      <td>0</td>\n",
       "    </tr>\n",
       "    <tr>\n",
       "      <th>3</th>\n",
       "      <td>0001b41b1c6bb37e</td>\n",
       "      <td>\"\\nMore\\nI can't make any real suggestions on ...</td>\n",
       "      <td>0</td>\n",
       "      <td>0</td>\n",
       "      <td>0</td>\n",
       "      <td>0</td>\n",
       "      <td>0</td>\n",
       "      <td>0</td>\n",
       "    </tr>\n",
       "    <tr>\n",
       "      <th>4</th>\n",
       "      <td>0001d958c54c6e35</td>\n",
       "      <td>You, sir, are my hero. Any chance you remember...</td>\n",
       "      <td>0</td>\n",
       "      <td>0</td>\n",
       "      <td>0</td>\n",
       "      <td>0</td>\n",
       "      <td>0</td>\n",
       "      <td>0</td>\n",
       "    </tr>\n",
       "    <tr>\n",
       "      <th>5</th>\n",
       "      <td>00025465d4725e87</td>\n",
       "      <td>\"\\n\\nCongratulations from me as well, use the ...</td>\n",
       "      <td>0</td>\n",
       "      <td>0</td>\n",
       "      <td>0</td>\n",
       "      <td>0</td>\n",
       "      <td>0</td>\n",
       "      <td>0</td>\n",
       "    </tr>\n",
       "    <tr>\n",
       "      <th>6</th>\n",
       "      <td>0002bcb3da6cb337</td>\n",
       "      <td>COCKSUCKER BEFORE YOU PISS AROUND ON MY WORK</td>\n",
       "      <td>1</td>\n",
       "      <td>1</td>\n",
       "      <td>1</td>\n",
       "      <td>0</td>\n",
       "      <td>1</td>\n",
       "      <td>0</td>\n",
       "    </tr>\n",
       "    <tr>\n",
       "      <th>7</th>\n",
       "      <td>00031b1e95af7921</td>\n",
       "      <td>Your vandalism to the Matt Shirvington article...</td>\n",
       "      <td>0</td>\n",
       "      <td>0</td>\n",
       "      <td>0</td>\n",
       "      <td>0</td>\n",
       "      <td>0</td>\n",
       "      <td>0</td>\n",
       "    </tr>\n",
       "    <tr>\n",
       "      <th>8</th>\n",
       "      <td>00037261f536c51d</td>\n",
       "      <td>Sorry if the word 'nonsense' was offensive to ...</td>\n",
       "      <td>0</td>\n",
       "      <td>0</td>\n",
       "      <td>0</td>\n",
       "      <td>0</td>\n",
       "      <td>0</td>\n",
       "      <td>0</td>\n",
       "    </tr>\n",
       "    <tr>\n",
       "      <th>9</th>\n",
       "      <td>00040093b2687caa</td>\n",
       "      <td>alignment on this subject and which are contra...</td>\n",
       "      <td>0</td>\n",
       "      <td>0</td>\n",
       "      <td>0</td>\n",
       "      <td>0</td>\n",
       "      <td>0</td>\n",
       "      <td>0</td>\n",
       "    </tr>\n",
       "  </tbody>\n",
       "</table>\n",
       "</div>"
      ],
      "text/plain": [
       "                 id                                       comment_text  toxic  \\\n",
       "0  0000997932d777bf  Explanation\\nWhy the edits made under my usern...      0   \n",
       "1  000103f0d9cfb60f  D'aww! He matches this background colour I'm s...      0   \n",
       "2  000113f07ec002fd  Hey man, I'm really not trying to edit war. It...      0   \n",
       "3  0001b41b1c6bb37e  \"\\nMore\\nI can't make any real suggestions on ...      0   \n",
       "4  0001d958c54c6e35  You, sir, are my hero. Any chance you remember...      0   \n",
       "5  00025465d4725e87  \"\\n\\nCongratulations from me as well, use the ...      0   \n",
       "6  0002bcb3da6cb337       COCKSUCKER BEFORE YOU PISS AROUND ON MY WORK      1   \n",
       "7  00031b1e95af7921  Your vandalism to the Matt Shirvington article...      0   \n",
       "8  00037261f536c51d  Sorry if the word 'nonsense' was offensive to ...      0   \n",
       "9  00040093b2687caa  alignment on this subject and which are contra...      0   \n",
       "\n",
       "   severe_toxic  obscene  threat  insult  identity_hate  \n",
       "0             0        0       0       0              0  \n",
       "1             0        0       0       0              0  \n",
       "2             0        0       0       0              0  \n",
       "3             0        0       0       0              0  \n",
       "4             0        0       0       0              0  \n",
       "5             0        0       0       0              0  \n",
       "6             1        1       0       1              0  \n",
       "7             0        0       0       0              0  \n",
       "8             0        0       0       0              0  \n",
       "9             0        0       0       0              0  "
      ]
     },
     "execution_count": 4,
     "metadata": {},
     "output_type": "execute_result"
    }
   ],
   "source": [
    "df.head(10)"
   ]
  },
  {
   "cell_type": "code",
   "execution_count": 5,
   "metadata": {},
   "outputs": [
    {
     "data": {
      "text/plain": [
       "\"Explanation\\nWhy the edits made under my username Hardcore Metallica Fan were reverted? They weren't vandalisms, just closure on some GAs after I voted at New York Dolls FAC. And please don't remove the template from the talk page since I'm retired now.89.205.38.27\""
      ]
     },
     "execution_count": 5,
     "metadata": {},
     "output_type": "execute_result"
    }
   ],
   "source": [
    "df.iloc[0]['comment_text']"
   ]
  },
  {
   "cell_type": "code",
   "execution_count": 6,
   "metadata": {},
   "outputs": [
    {
     "data": {
      "text/plain": [
       "\"Your vandalism to the Matt Shirvington article has been reverted.  Please don't do it again, or you will be banned.\""
      ]
     },
     "execution_count": 6,
     "metadata": {},
     "output_type": "execute_result"
    }
   ],
   "source": [
    "df.iloc[7]['comment_text']"
   ]
  },
  {
   "cell_type": "code",
   "execution_count": 7,
   "metadata": {},
   "outputs": [
    {
     "data": {
      "text/plain": [
       "'\"\\nMore\\nI can\\'t make any real suggestions on improvement - I wondered if the section statistics should be later on, or a subsection of \"\"types of accidents\"\"  -I think the references may need tidying so that they are all in the exact same format ie date format etc. I can do that later on, if no-one else does first - if you have any preferences for formatting style on references or want to do it yourself please let me know.\\n\\nThere appears to be a backlog on articles for review so I guess there may be a delay until a reviewer turns up. It\\'s listed in the relevant form eg Wikipedia:Good_article_nominations#Transport  \"'"
      ]
     },
     "execution_count": 7,
     "metadata": {},
     "output_type": "execute_result"
    }
   ],
   "source": [
    "df.iloc[3]['comment_text']"
   ]
  },
  {
   "cell_type": "code",
   "execution_count": 8,
   "metadata": {},
   "outputs": [
    {
     "data": {
      "text/html": [
       "<div>\n",
       "<style scoped>\n",
       "    .dataframe tbody tr th:only-of-type {\n",
       "        vertical-align: middle;\n",
       "    }\n",
       "\n",
       "    .dataframe tbody tr th {\n",
       "        vertical-align: top;\n",
       "    }\n",
       "\n",
       "    .dataframe thead th {\n",
       "        text-align: right;\n",
       "    }\n",
       "</style>\n",
       "<table border=\"1\" class=\"dataframe\">\n",
       "  <thead>\n",
       "    <tr style=\"text-align: right;\">\n",
       "      <th></th>\n",
       "      <th>id</th>\n",
       "      <th>comment_text</th>\n",
       "      <th>toxic</th>\n",
       "      <th>severe_toxic</th>\n",
       "      <th>obscene</th>\n",
       "      <th>threat</th>\n",
       "      <th>insult</th>\n",
       "      <th>identity_hate</th>\n",
       "    </tr>\n",
       "  </thead>\n",
       "  <tbody>\n",
       "    <tr>\n",
       "      <th>159494</th>\n",
       "      <td>fef4cf7ba0012866</td>\n",
       "      <td>\"\\n\\n our previous conversation \\n\\nyou fuckin...</td>\n",
       "      <td>1</td>\n",
       "      <td>0</td>\n",
       "      <td>1</td>\n",
       "      <td>0</td>\n",
       "      <td>1</td>\n",
       "      <td>1</td>\n",
       "    </tr>\n",
       "    <tr>\n",
       "      <th>159514</th>\n",
       "      <td>ff39a2895fc3b40e</td>\n",
       "      <td>YOU ARE A MISCHIEVIOUS PUBIC HAIR</td>\n",
       "      <td>1</td>\n",
       "      <td>0</td>\n",
       "      <td>0</td>\n",
       "      <td>0</td>\n",
       "      <td>1</td>\n",
       "      <td>0</td>\n",
       "    </tr>\n",
       "    <tr>\n",
       "      <th>159541</th>\n",
       "      <td>ffa33d3122b599d6</td>\n",
       "      <td>Your absurd edits \\n\\nYour absurd edits on gre...</td>\n",
       "      <td>1</td>\n",
       "      <td>0</td>\n",
       "      <td>1</td>\n",
       "      <td>0</td>\n",
       "      <td>1</td>\n",
       "      <td>0</td>\n",
       "    </tr>\n",
       "    <tr>\n",
       "      <th>159546</th>\n",
       "      <td>ffb47123b2d82762</td>\n",
       "      <td>\"\\n\\nHey listen don't you ever!!!! Delete my e...</td>\n",
       "      <td>1</td>\n",
       "      <td>0</td>\n",
       "      <td>0</td>\n",
       "      <td>0</td>\n",
       "      <td>1</td>\n",
       "      <td>0</td>\n",
       "    </tr>\n",
       "    <tr>\n",
       "      <th>159554</th>\n",
       "      <td>ffbdbb0483ed0841</td>\n",
       "      <td>and i'm going to keep posting the stuff u dele...</td>\n",
       "      <td>1</td>\n",
       "      <td>0</td>\n",
       "      <td>1</td>\n",
       "      <td>0</td>\n",
       "      <td>1</td>\n",
       "      <td>0</td>\n",
       "    </tr>\n",
       "  </tbody>\n",
       "</table>\n",
       "</div>"
      ],
      "text/plain": [
       "                      id                                       comment_text  \\\n",
       "159494  fef4cf7ba0012866  \"\\n\\n our previous conversation \\n\\nyou fuckin...   \n",
       "159514  ff39a2895fc3b40e                  YOU ARE A MISCHIEVIOUS PUBIC HAIR   \n",
       "159541  ffa33d3122b599d6  Your absurd edits \\n\\nYour absurd edits on gre...   \n",
       "159546  ffb47123b2d82762  \"\\n\\nHey listen don't you ever!!!! Delete my e...   \n",
       "159554  ffbdbb0483ed0841  and i'm going to keep posting the stuff u dele...   \n",
       "\n",
       "        toxic  severe_toxic  obscene  threat  insult  identity_hate  \n",
       "159494      1             0        1       0       1              1  \n",
       "159514      1             0        0       0       1              0  \n",
       "159541      1             0        1       0       1              0  \n",
       "159546      1             0        0       0       1              0  \n",
       "159554      1             0        1       0       1              0  "
      ]
     },
     "execution_count": 8,
     "metadata": {},
     "output_type": "execute_result"
    }
   ],
   "source": [
    "df[df['toxic']==1].tail()"
   ]
  },
  {
   "attachments": {},
   "cell_type": "markdown",
   "metadata": {},
   "source": [
    "**Pre-Processing the Data**"
   ]
  },
  {
   "cell_type": "code",
   "execution_count": 9,
   "metadata": {},
   "outputs": [],
   "source": [
    "from tensorflow.keras.layers import TextVectorization"
   ]
  },
  {
   "cell_type": "code",
   "execution_count": 10,
   "metadata": {},
   "outputs": [
    {
     "data": {
      "text/plain": [
       "Index(['id', 'comment_text', 'toxic', 'severe_toxic', 'obscene', 'threat',\n",
       "       'insult', 'identity_hate'],\n",
       "      dtype='object')"
      ]
     },
     "execution_count": 10,
     "metadata": {},
     "output_type": "execute_result"
    }
   ],
   "source": [
    "df.columns"
   ]
  },
  {
   "cell_type": "code",
   "execution_count": 11,
   "metadata": {},
   "outputs": [],
   "source": [
    "x = df['comment_text']\n",
    "y = df[df.columns[2::]].values"
   ]
  },
  {
   "cell_type": "code",
   "execution_count": 12,
   "metadata": {},
   "outputs": [
    {
     "data": {
      "text/plain": [
       "0         Explanation\\nWhy the edits made under my usern...\n",
       "1         D'aww! He matches this background colour I'm s...\n",
       "2         Hey man, I'm really not trying to edit war. It...\n",
       "3         \"\\nMore\\nI can't make any real suggestions on ...\n",
       "4         You, sir, are my hero. Any chance you remember...\n",
       "                                ...                        \n",
       "159566    \":::::And for the second time of asking, when ...\n",
       "159567    You should be ashamed of yourself \\n\\nThat is ...\n",
       "159568    Spitzer \\n\\nUmm, theres no actual article for ...\n",
       "159569    And it looks like it was actually you who put ...\n",
       "159570    \"\\nAnd ... I really don't think you understand...\n",
       "Name: comment_text, Length: 159571, dtype: object"
      ]
     },
     "execution_count": 12,
     "metadata": {},
     "output_type": "execute_result"
    }
   ],
   "source": [
    "x"
   ]
  },
  {
   "cell_type": "code",
   "execution_count": 13,
   "metadata": {},
   "outputs": [
    {
     "data": {
      "text/plain": [
       "array([[0, 0, 0, 0, 0, 0],\n",
       "       [0, 0, 0, 0, 0, 0],\n",
       "       [0, 0, 0, 0, 0, 0],\n",
       "       ...,\n",
       "       [0, 0, 0, 0, 0, 0],\n",
       "       [0, 0, 0, 0, 0, 0],\n",
       "       [0, 0, 0, 0, 0, 0]], shape=(159571, 6))"
      ]
     },
     "execution_count": 13,
     "metadata": {},
     "output_type": "execute_result"
    }
   ],
   "source": [
    "y"
   ]
  },
  {
   "cell_type": "code",
   "execution_count": 14,
   "metadata": {},
   "outputs": [],
   "source": [
    "MAX_FEATURES = 200000 # number of words in the vocab"
   ]
  },
  {
   "cell_type": "code",
   "execution_count": 15,
   "metadata": {},
   "outputs": [],
   "source": [
    "vectorizer = TextVectorization(max_tokens=MAX_FEATURES, output_sequence_length=2000, output_mode='int')"
   ]
  },
  {
   "cell_type": "code",
   "execution_count": 16,
   "metadata": {},
   "outputs": [],
   "source": [
    "vectorizer.adapt(x.values)"
   ]
  },
  {
   "cell_type": "code",
   "execution_count": 17,
   "metadata": {},
   "outputs": [
    {
     "data": {
      "text/plain": [
       "<tf.Tensor: shape=(7,), dtype=int64, numpy=array([   29,     1, 10814,    20,   130,    66,     0])>"
      ]
     },
     "execution_count": 17,
     "metadata": {},
     "output_type": "execute_result"
    }
   ],
   "source": [
    "vectorizer('My end-term exams are really here!')[:7]"
   ]
  },
  {
   "cell_type": "code",
   "execution_count": 18,
   "metadata": {},
   "outputs": [],
   "source": [
    "vectorized_text = vectorizer(x.values)"
   ]
  },
  {
   "cell_type": "code",
   "execution_count": 19,
   "metadata": {},
   "outputs": [
    {
     "data": {
      "text/plain": [
       "159571"
      ]
     },
     "execution_count": 19,
     "metadata": {},
     "output_type": "execute_result"
    }
   ],
   "source": [
    "len(vectorized_text)"
   ]
  },
  {
   "cell_type": "code",
   "execution_count": 20,
   "metadata": {},
   "outputs": [
    {
     "data": {
      "text/plain": [
       "<tf.Tensor: shape=(159571, 2000), dtype=int64, numpy=\n",
       "array([[  645,    76,     2, ...,     0,     0,     0],\n",
       "       [    1,    54,  2489, ...,     0,     0,     0],\n",
       "       [  425,   441,    70, ...,     0,     0,     0],\n",
       "       ...,\n",
       "       [32445,  7392,   383, ...,     0,     0,     0],\n",
       "       [    5,    12,   534, ...,     0,     0,     0],\n",
       "       [    5,     8,   130, ...,     0,     0,     0]],\n",
       "      shape=(159571, 2000))>"
      ]
     },
     "execution_count": 20,
     "metadata": {},
     "output_type": "execute_result"
    }
   ],
   "source": [
    "vectorized_text"
   ]
  },
  {
   "cell_type": "code",
   "execution_count": 21,
   "metadata": {},
   "outputs": [],
   "source": [
    "#tensorflow data pipeline\n",
    "#MCSHBAP - map, cache, shuffle, prefetch \n",
    "dataset = tf.data.Dataset.from_tensor_slices((vectorized_text, y))\n",
    "dataset = dataset.cache()\n",
    "dataset = dataset.shuffle(160000)\n",
    "dataset = dataset.batch(16)\n",
    "dataset = dataset.prefetch(8) #prefetch helps prevent bottlenecks"
   ]
  },
  {
   "cell_type": "code",
   "execution_count": 22,
   "metadata": {},
   "outputs": [
    {
     "data": {
      "text/plain": [
       "9974"
      ]
     },
     "execution_count": 22,
     "metadata": {},
     "output_type": "execute_result"
    }
   ],
   "source": [
    "len(dataset) # gives the number of batches"
   ]
  },
  {
   "cell_type": "code",
   "execution_count": 23,
   "metadata": {},
   "outputs": [],
   "source": [
    "train = dataset.take(int(len(dataset)*0.7))\n",
    "val = dataset.skip(int(len(dataset)*0.7)).take(int(len(dataset)*0.2))\n",
    "test = dataset.skip(int(len(dataset)*0.9)).take(int(len(dataset)*0.1))"
   ]
  },
  {
   "cell_type": "code",
   "execution_count": 24,
   "metadata": {},
   "outputs": [
    {
     "name": "stdout",
     "output_type": "stream",
     "text": [
      "Number of Batches of Train Data : 6981\n",
      "Number of Batches of Validation Data : 1994\n",
      "Number of Batches of Test Data : 997\n"
     ]
    }
   ],
   "source": [
    "print(f\"Number of Batches of Train Data : {len(train)}\")\n",
    "print(f\"Number of Batches of Validation Data : {len(val)}\")\n",
    "print(f\"Number of Batches of Test Data : {len(test)}\")"
   ]
  },
  {
   "attachments": {},
   "cell_type": "markdown",
   "metadata": {},
   "source": [
    "**Create Sequential Model**"
   ]
  },
  {
   "cell_type": "code",
   "execution_count": 25,
   "metadata": {},
   "outputs": [],
   "source": [
    "from tensorflow.keras.models import Sequential\n",
    "from tensorflow.keras.layers import LSTM, Dropout, Bidirectional, Dense, Embedding"
   ]
  },
  {
   "cell_type": "code",
   "execution_count": 26,
   "metadata": {},
   "outputs": [],
   "source": [
    "model = Sequential()\n",
    "model.add(Embedding(MAX_FEATURES+1, 32))\n",
    "model.add(Bidirectional(LSTM(32, activation='tanh')))\n",
    "model.add(Dense(128, activation='relu'))\n",
    "model.add(Dense(256, activation='relu'))\n",
    "model.add(Dense(128, activation='relu'))\n",
    "model.add(Dense(6, activation='sigmoid'))"
   ]
  },
  {
   "cell_type": "code",
   "execution_count": 27,
   "metadata": {},
   "outputs": [],
   "source": [
    "model.compile(loss='BinaryCrossentropy', optimizer='Adam')"
   ]
  },
  {
   "cell_type": "code",
   "execution_count": 28,
   "metadata": {},
   "outputs": [
    {
     "data": {
      "text/html": [
       "<pre style=\"white-space:pre;overflow-x:auto;line-height:normal;font-family:Menlo,'DejaVu Sans Mono',consolas,'Courier New',monospace\"><span style=\"font-weight: bold\">Model: \"sequential\"</span>\n",
       "</pre>\n"
      ],
      "text/plain": [
       "\u001b[1mModel: \"sequential\"\u001b[0m\n"
      ]
     },
     "metadata": {},
     "output_type": "display_data"
    },
    {
     "data": {
      "text/html": [
       "<pre style=\"white-space:pre;overflow-x:auto;line-height:normal;font-family:Menlo,'DejaVu Sans Mono',consolas,'Courier New',monospace\">┏━━━━━━━━━━━━━━━━━━━━━━━━━━━━━━━━━┳━━━━━━━━━━━━━━━━━━━━━━━━┳━━━━━━━━━━━━━━━┓\n",
       "┃<span style=\"font-weight: bold\"> Layer (type)                    </span>┃<span style=\"font-weight: bold\"> Output Shape           </span>┃<span style=\"font-weight: bold\">       Param # </span>┃\n",
       "┡━━━━━━━━━━━━━━━━━━━━━━━━━━━━━━━━━╇━━━━━━━━━━━━━━━━━━━━━━━━╇━━━━━━━━━━━━━━━┩\n",
       "│ embedding (<span style=\"color: #0087ff; text-decoration-color: #0087ff\">Embedding</span>)           │ ?                      │   <span style=\"color: #00af00; text-decoration-color: #00af00\">0</span> (unbuilt) │\n",
       "├─────────────────────────────────┼────────────────────────┼───────────────┤\n",
       "│ bidirectional (<span style=\"color: #0087ff; text-decoration-color: #0087ff\">Bidirectional</span>)   │ ?                      │   <span style=\"color: #00af00; text-decoration-color: #00af00\">0</span> (unbuilt) │\n",
       "├─────────────────────────────────┼────────────────────────┼───────────────┤\n",
       "│ dense (<span style=\"color: #0087ff; text-decoration-color: #0087ff\">Dense</span>)                   │ ?                      │   <span style=\"color: #00af00; text-decoration-color: #00af00\">0</span> (unbuilt) │\n",
       "├─────────────────────────────────┼────────────────────────┼───────────────┤\n",
       "│ dense_1 (<span style=\"color: #0087ff; text-decoration-color: #0087ff\">Dense</span>)                 │ ?                      │   <span style=\"color: #00af00; text-decoration-color: #00af00\">0</span> (unbuilt) │\n",
       "├─────────────────────────────────┼────────────────────────┼───────────────┤\n",
       "│ dense_2 (<span style=\"color: #0087ff; text-decoration-color: #0087ff\">Dense</span>)                 │ ?                      │   <span style=\"color: #00af00; text-decoration-color: #00af00\">0</span> (unbuilt) │\n",
       "├─────────────────────────────────┼────────────────────────┼───────────────┤\n",
       "│ dense_3 (<span style=\"color: #0087ff; text-decoration-color: #0087ff\">Dense</span>)                 │ ?                      │   <span style=\"color: #00af00; text-decoration-color: #00af00\">0</span> (unbuilt) │\n",
       "└─────────────────────────────────┴────────────────────────┴───────────────┘\n",
       "</pre>\n"
      ],
      "text/plain": [
       "┏━━━━━━━━━━━━━━━━━━━━━━━━━━━━━━━━━┳━━━━━━━━━━━━━━━━━━━━━━━━┳━━━━━━━━━━━━━━━┓\n",
       "┃\u001b[1m \u001b[0m\u001b[1mLayer (type)                   \u001b[0m\u001b[1m \u001b[0m┃\u001b[1m \u001b[0m\u001b[1mOutput Shape          \u001b[0m\u001b[1m \u001b[0m┃\u001b[1m \u001b[0m\u001b[1m      Param #\u001b[0m\u001b[1m \u001b[0m┃\n",
       "┡━━━━━━━━━━━━━━━━━━━━━━━━━━━━━━━━━╇━━━━━━━━━━━━━━━━━━━━━━━━╇━━━━━━━━━━━━━━━┩\n",
       "│ embedding (\u001b[38;5;33mEmbedding\u001b[0m)           │ ?                      │   \u001b[38;5;34m0\u001b[0m (unbuilt) │\n",
       "├─────────────────────────────────┼────────────────────────┼───────────────┤\n",
       "│ bidirectional (\u001b[38;5;33mBidirectional\u001b[0m)   │ ?                      │   \u001b[38;5;34m0\u001b[0m (unbuilt) │\n",
       "├─────────────────────────────────┼────────────────────────┼───────────────┤\n",
       "│ dense (\u001b[38;5;33mDense\u001b[0m)                   │ ?                      │   \u001b[38;5;34m0\u001b[0m (unbuilt) │\n",
       "├─────────────────────────────────┼────────────────────────┼───────────────┤\n",
       "│ dense_1 (\u001b[38;5;33mDense\u001b[0m)                 │ ?                      │   \u001b[38;5;34m0\u001b[0m (unbuilt) │\n",
       "├─────────────────────────────────┼────────────────────────┼───────────────┤\n",
       "│ dense_2 (\u001b[38;5;33mDense\u001b[0m)                 │ ?                      │   \u001b[38;5;34m0\u001b[0m (unbuilt) │\n",
       "├─────────────────────────────────┼────────────────────────┼───────────────┤\n",
       "│ dense_3 (\u001b[38;5;33mDense\u001b[0m)                 │ ?                      │   \u001b[38;5;34m0\u001b[0m (unbuilt) │\n",
       "└─────────────────────────────────┴────────────────────────┴───────────────┘\n"
      ]
     },
     "metadata": {},
     "output_type": "display_data"
    },
    {
     "data": {
      "text/html": [
       "<pre style=\"white-space:pre;overflow-x:auto;line-height:normal;font-family:Menlo,'DejaVu Sans Mono',consolas,'Courier New',monospace\"><span style=\"font-weight: bold\"> Total params: </span><span style=\"color: #00af00; text-decoration-color: #00af00\">0</span> (0.00 B)\n",
       "</pre>\n"
      ],
      "text/plain": [
       "\u001b[1m Total params: \u001b[0m\u001b[38;5;34m0\u001b[0m (0.00 B)\n"
      ]
     },
     "metadata": {},
     "output_type": "display_data"
    },
    {
     "data": {
      "text/html": [
       "<pre style=\"white-space:pre;overflow-x:auto;line-height:normal;font-family:Menlo,'DejaVu Sans Mono',consolas,'Courier New',monospace\"><span style=\"font-weight: bold\"> Trainable params: </span><span style=\"color: #00af00; text-decoration-color: #00af00\">0</span> (0.00 B)\n",
       "</pre>\n"
      ],
      "text/plain": [
       "\u001b[1m Trainable params: \u001b[0m\u001b[38;5;34m0\u001b[0m (0.00 B)\n"
      ]
     },
     "metadata": {},
     "output_type": "display_data"
    },
    {
     "data": {
      "text/html": [
       "<pre style=\"white-space:pre;overflow-x:auto;line-height:normal;font-family:Menlo,'DejaVu Sans Mono',consolas,'Courier New',monospace\"><span style=\"font-weight: bold\"> Non-trainable params: </span><span style=\"color: #00af00; text-decoration-color: #00af00\">0</span> (0.00 B)\n",
       "</pre>\n"
      ],
      "text/plain": [
       "\u001b[1m Non-trainable params: \u001b[0m\u001b[38;5;34m0\u001b[0m (0.00 B)\n"
      ]
     },
     "metadata": {},
     "output_type": "display_data"
    }
   ],
   "source": [
    "model.summary()"
   ]
  },
  {
   "cell_type": "code",
   "execution_count": 29,
   "metadata": {},
   "outputs": [
    {
     "name": "stdout",
     "output_type": "stream",
     "text": [
      "\u001b[1m6981/6981\u001b[0m \u001b[32m━━━━━━━━━━━━━━━━━━━━\u001b[0m\u001b[37m\u001b[0m \u001b[1m4117s\u001b[0m 589ms/step - loss: 0.0611 - val_loss: 0.0443\n"
     ]
    }
   ],
   "source": [
    "history = model.fit(train, epochs=1, validation_data=val)"
   ]
  },
  {
   "attachments": {},
   "cell_type": "markdown",
   "metadata": {},
   "source": [
    "**Making Predicitions**"
   ]
  },
  {
   "cell_type": "code",
   "execution_count": 30,
   "metadata": {},
   "outputs": [],
   "source": [
    "input_text = vectorizer(\"you freaking suck!\")"
   ]
  },
  {
   "cell_type": "code",
   "execution_count": 31,
   "metadata": {},
   "outputs": [
    {
     "name": "stdout",
     "output_type": "stream",
     "text": [
      "\u001b[1m1/1\u001b[0m \u001b[32m━━━━━━━━━━━━━━━━━━━━\u001b[0m\u001b[37m\u001b[0m \u001b[1m0s\u001b[0m 375ms/step\n"
     ]
    },
    {
     "data": {
      "text/plain": [
       "array([[0.9944387 , 0.3267898 , 0.9360086 , 0.04047212, 0.85156167,\n",
       "        0.15112308]], dtype=float32)"
      ]
     },
     "execution_count": 31,
     "metadata": {},
     "output_type": "execute_result"
    }
   ],
   "source": [
    "model.predict(np.expand_dims(input_text,0))"
   ]
  },
  {
   "attachments": {},
   "cell_type": "markdown",
   "metadata": {},
   "source": [
    "\n",
    "**Evaluate Model**"
   ]
  },
  {
   "cell_type": "code",
   "execution_count": 32,
   "metadata": {},
   "outputs": [],
   "source": [
    "from tensorflow.keras.metrics import Precision, Recall, CategoricalAccuracy"
   ]
  },
  {
   "cell_type": "code",
   "execution_count": 33,
   "metadata": {},
   "outputs": [],
   "source": [
    "pre = Precision()\n",
    "rec = Recall()\n",
    "CatAcc = CategoricalAccuracy()"
   ]
  },
  {
   "cell_type": "code",
   "execution_count": 34,
   "metadata": {},
   "outputs": [
    {
     "name": "stdout",
     "output_type": "stream",
     "text": [
      "\n",
      " Precision: 0.0, \n",
      " Recall:0.0, \n",
      " Accuracy:0.0\n"
     ]
    }
   ],
   "source": [
    "print(f'\\n Precision: {pre.result().numpy()}, \\n Recall:{rec.result().numpy()}, \\n Accuracy:{CatAcc.result().numpy()}')"
   ]
  },
  {
   "cell_type": "code",
   "execution_count": 35,
   "metadata": {},
   "outputs": [
    {
     "name": "stderr",
     "output_type": "stream",
     "text": [
      "WARNING:absl:You are saving your model as an HDF5 file via `model.save()` or `keras.saving.save_model(model)`. This file format is considered legacy. We recommend using instead the native Keras format, e.g. `model.save('my_model.keras')` or `keras.saving.save_model(model, 'my_model.keras')`. \n"
     ]
    }
   ],
   "source": [
    "model.save('toxicity_grader.h5')"
   ]
  },
  {
   "attachments": {},
   "cell_type": "markdown",
   "metadata": {},
   "source": [
    "**Test and Gradio**"
   ]
  },
  {
   "cell_type": "code",
   "execution_count": 36,
   "metadata": {},
   "outputs": [
    {
     "name": "stdout",
     "output_type": "stream",
     "text": [
      "Collecting gradio\n",
      "  Downloading gradio-5.43.1-py3-none-any.whl.metadata (16 kB)\n",
      "Collecting jinja2\n",
      "  Using cached jinja2-3.1.6-py3-none-any.whl.metadata (2.9 kB)\n",
      "Collecting aiofiles<25.0,>=22.0 (from gradio)\n",
      "  Downloading aiofiles-24.1.0-py3-none-any.whl.metadata (10 kB)\n",
      "Collecting anyio<5.0,>=3.0 (from gradio)\n",
      "  Using cached anyio-4.10.0-py3-none-any.whl.metadata (4.0 kB)\n",
      "Collecting brotli>=1.1.0 (from gradio)\n",
      "  Downloading Brotli-1.1.0-cp312-cp312-win_amd64.whl.metadata (5.6 kB)\n",
      "Collecting fastapi<1.0,>=0.115.2 (from gradio)\n",
      "  Using cached fastapi-0.116.1-py3-none-any.whl.metadata (28 kB)\n",
      "Collecting ffmpy (from gradio)\n",
      "  Downloading ffmpy-0.6.1-py3-none-any.whl.metadata (2.9 kB)\n",
      "Collecting gradio-client==1.12.1 (from gradio)\n",
      "  Downloading gradio_client-1.12.1-py3-none-any.whl.metadata (7.1 kB)\n",
      "Collecting groovy~=0.1 (from gradio)\n",
      "  Downloading groovy-0.1.2-py3-none-any.whl.metadata (6.1 kB)\n",
      "Collecting httpx<1.0,>=0.24.1 (from gradio)\n",
      "  Using cached httpx-0.28.1-py3-none-any.whl.metadata (7.1 kB)\n",
      "Collecting huggingface-hub<1.0,>=0.33.5 (from gradio)\n",
      "  Using cached huggingface_hub-0.34.4-py3-none-any.whl.metadata (14 kB)\n",
      "Requirement already satisfied: markupsafe<4.0,>=2.0 in c:\\users\\lenovo\\documents\\new folder\\myenv\\lib\\site-packages (from gradio) (3.0.2)\n",
      "Requirement already satisfied: numpy<3.0,>=1.0 in c:\\users\\lenovo\\documents\\new folder\\myenv\\lib\\site-packages (from gradio) (2.3.2)\n",
      "Collecting orjson~=3.0 (from gradio)\n",
      "  Using cached orjson-3.11.2-cp312-cp312-win_amd64.whl.metadata (1.2 kB)\n",
      "Requirement already satisfied: packaging in c:\\users\\lenovo\\documents\\new folder\\myenv\\lib\\site-packages (from gradio) (25.0)\n",
      "Requirement already satisfied: pandas<3.0,>=1.0 in c:\\users\\lenovo\\documents\\new folder\\myenv\\lib\\site-packages (from gradio) (2.3.2)\n",
      "Requirement already satisfied: pillow<12.0,>=8.0 in c:\\users\\lenovo\\documents\\new folder\\myenv\\lib\\site-packages (from gradio) (11.3.0)\n",
      "Collecting pydantic<2.12,>=2.0 (from gradio)\n",
      "  Using cached pydantic-2.11.7-py3-none-any.whl.metadata (67 kB)\n",
      "Collecting pydub (from gradio)\n",
      "  Downloading pydub-0.25.1-py2.py3-none-any.whl.metadata (1.4 kB)\n",
      "Collecting python-multipart>=0.0.18 (from gradio)\n",
      "  Downloading python_multipart-0.0.20-py3-none-any.whl.metadata (1.8 kB)\n",
      "Collecting pyyaml<7.0,>=5.0 (from gradio)\n",
      "  Using cached PyYAML-6.0.2-cp312-cp312-win_amd64.whl.metadata (2.1 kB)\n",
      "Collecting ruff>=0.9.3 (from gradio)\n",
      "  Downloading ruff-0.12.10-py3-none-win_amd64.whl.metadata (26 kB)\n",
      "Collecting safehttpx<0.2.0,>=0.1.6 (from gradio)\n",
      "  Downloading safehttpx-0.1.6-py3-none-any.whl.metadata (4.2 kB)\n",
      "Collecting semantic-version~=2.0 (from gradio)\n",
      "  Downloading semantic_version-2.10.0-py2.py3-none-any.whl.metadata (9.7 kB)\n",
      "Collecting starlette<1.0,>=0.40.0 (from gradio)\n",
      "  Downloading starlette-0.47.2-py3-none-any.whl.metadata (6.2 kB)\n",
      "Collecting tomlkit<0.14.0,>=0.12.0 (from gradio)\n",
      "  Downloading tomlkit-0.13.3-py3-none-any.whl.metadata (2.8 kB)\n",
      "Collecting typer<1.0,>=0.12 (from gradio)\n",
      "  Downloading typer-0.16.1-py3-none-any.whl.metadata (15 kB)\n",
      "Requirement already satisfied: typing-extensions~=4.0 in c:\\users\\lenovo\\documents\\new folder\\myenv\\lib\\site-packages (from gradio) (4.14.1)\n",
      "Collecting uvicorn>=0.14.0 (from gradio)\n",
      "  Using cached uvicorn-0.35.0-py3-none-any.whl.metadata (6.5 kB)\n",
      "Collecting fsspec (from gradio-client==1.12.1->gradio)\n",
      "  Using cached fsspec-2025.7.0-py3-none-any.whl.metadata (12 kB)\n",
      "Collecting websockets<16.0,>=10.0 (from gradio-client==1.12.1->gradio)\n",
      "  Downloading websockets-15.0.1-cp312-cp312-win_amd64.whl.metadata (7.0 kB)\n",
      "Requirement already satisfied: idna>=2.8 in c:\\users\\lenovo\\documents\\new folder\\myenv\\lib\\site-packages (from anyio<5.0,>=3.0->gradio) (3.10)\n",
      "Collecting sniffio>=1.1 (from anyio<5.0,>=3.0->gradio)\n",
      "  Using cached sniffio-1.3.1-py3-none-any.whl.metadata (3.9 kB)\n",
      "Requirement already satisfied: certifi in c:\\users\\lenovo\\documents\\new folder\\myenv\\lib\\site-packages (from httpx<1.0,>=0.24.1->gradio) (2025.8.3)\n",
      "Collecting httpcore==1.* (from httpx<1.0,>=0.24.1->gradio)\n",
      "  Using cached httpcore-1.0.9-py3-none-any.whl.metadata (21 kB)\n",
      "Collecting h11>=0.16 (from httpcore==1.*->httpx<1.0,>=0.24.1->gradio)\n",
      "  Using cached h11-0.16.0-py3-none-any.whl.metadata (8.3 kB)\n",
      "Collecting filelock (from huggingface-hub<1.0,>=0.33.5->gradio)\n",
      "  Using cached filelock-3.19.1-py3-none-any.whl.metadata (2.1 kB)\n",
      "Requirement already satisfied: requests in c:\\users\\lenovo\\documents\\new folder\\myenv\\lib\\site-packages (from huggingface-hub<1.0,>=0.33.5->gradio) (2.32.5)\n",
      "Collecting tqdm>=4.42.1 (from huggingface-hub<1.0,>=0.33.5->gradio)\n",
      "  Using cached tqdm-4.67.1-py3-none-any.whl.metadata (57 kB)\n",
      "Requirement already satisfied: python-dateutil>=2.8.2 in c:\\users\\lenovo\\documents\\new folder\\myenv\\lib\\site-packages (from pandas<3.0,>=1.0->gradio) (2.9.0.post0)\n",
      "Requirement already satisfied: pytz>=2020.1 in c:\\users\\lenovo\\documents\\new folder\\myenv\\lib\\site-packages (from pandas<3.0,>=1.0->gradio) (2025.2)\n",
      "Requirement already satisfied: tzdata>=2022.7 in c:\\users\\lenovo\\documents\\new folder\\myenv\\lib\\site-packages (from pandas<3.0,>=1.0->gradio) (2025.2)\n",
      "Collecting annotated-types>=0.6.0 (from pydantic<2.12,>=2.0->gradio)\n",
      "  Using cached annotated_types-0.7.0-py3-none-any.whl.metadata (15 kB)\n",
      "Collecting pydantic-core==2.33.2 (from pydantic<2.12,>=2.0->gradio)\n",
      "  Using cached pydantic_core-2.33.2-cp312-cp312-win_amd64.whl.metadata (6.9 kB)\n",
      "Collecting typing-inspection>=0.4.0 (from pydantic<2.12,>=2.0->gradio)\n",
      "  Using cached typing_inspection-0.4.1-py3-none-any.whl.metadata (2.6 kB)\n",
      "Collecting click>=8.0.0 (from typer<1.0,>=0.12->gradio)\n",
      "  Using cached click-8.2.1-py3-none-any.whl.metadata (2.5 kB)\n",
      "Collecting shellingham>=1.3.0 (from typer<1.0,>=0.12->gradio)\n",
      "  Using cached shellingham-1.5.4-py2.py3-none-any.whl.metadata (3.5 kB)\n",
      "Requirement already satisfied: rich>=10.11.0 in c:\\users\\lenovo\\documents\\new folder\\myenv\\lib\\site-packages (from typer<1.0,>=0.12->gradio) (14.1.0)\n",
      "Requirement already satisfied: colorama in c:\\users\\lenovo\\documents\\new folder\\myenv\\lib\\site-packages (from click>=8.0.0->typer<1.0,>=0.12->gradio) (0.4.6)\n",
      "Requirement already satisfied: six>=1.5 in c:\\users\\lenovo\\documents\\new folder\\myenv\\lib\\site-packages (from python-dateutil>=2.8.2->pandas<3.0,>=1.0->gradio) (1.17.0)\n",
      "Requirement already satisfied: markdown-it-py>=2.2.0 in c:\\users\\lenovo\\documents\\new folder\\myenv\\lib\\site-packages (from rich>=10.11.0->typer<1.0,>=0.12->gradio) (4.0.0)\n",
      "Requirement already satisfied: pygments<3.0.0,>=2.13.0 in c:\\users\\lenovo\\documents\\new folder\\myenv\\lib\\site-packages (from rich>=10.11.0->typer<1.0,>=0.12->gradio) (2.19.2)\n",
      "Requirement already satisfied: charset_normalizer<4,>=2 in c:\\users\\lenovo\\documents\\new folder\\myenv\\lib\\site-packages (from requests->huggingface-hub<1.0,>=0.33.5->gradio) (3.4.3)\n",
      "Requirement already satisfied: urllib3<3,>=1.21.1 in c:\\users\\lenovo\\documents\\new folder\\myenv\\lib\\site-packages (from requests->huggingface-hub<1.0,>=0.33.5->gradio) (2.5.0)\n",
      "Requirement already satisfied: mdurl~=0.1 in c:\\users\\lenovo\\documents\\new folder\\myenv\\lib\\site-packages (from markdown-it-py>=2.2.0->rich>=10.11.0->typer<1.0,>=0.12->gradio) (0.1.2)\n",
      "Downloading gradio-5.43.1-py3-none-any.whl (59.6 MB)\n",
      "   ---------------------------------------- 0.0/59.6 MB ? eta -:--:--\n",
      "   ---------------------------------------- 0.0/59.6 MB ? eta -:--:--\n",
      "   ---------------------------------------- 0.5/59.6 MB 2.1 MB/s eta 0:00:29\n",
      "    --------------------------------------- 0.8/59.6 MB 1.5 MB/s eta 0:00:39\n",
      "    --------------------------------------- 1.0/59.6 MB 1.4 MB/s eta 0:00:41\n",
      "    --------------------------------------- 1.3/59.6 MB 1.6 MB/s eta 0:00:36\n",
      "   - -------------------------------------- 1.6/59.6 MB 1.5 MB/s eta 0:00:39\n",
      "   - -------------------------------------- 1.8/59.6 MB 1.4 MB/s eta 0:00:42\n",
      "   - -------------------------------------- 2.1/59.6 MB 1.3 MB/s eta 0:00:44\n",
      "   - -------------------------------------- 2.1/59.6 MB 1.3 MB/s eta 0:00:44\n",
      "   - -------------------------------------- 2.4/59.6 MB 1.2 MB/s eta 0:00:47\n",
      "   - -------------------------------------- 2.6/59.6 MB 1.3 MB/s eta 0:00:46\n",
      "   - -------------------------------------- 2.6/59.6 MB 1.3 MB/s eta 0:00:46\n",
      "   - -------------------------------------- 2.9/59.6 MB 1.2 MB/s eta 0:00:49\n",
      "   -- ------------------------------------- 3.1/59.6 MB 1.2 MB/s eta 0:00:49\n",
      "   -- ------------------------------------- 3.4/59.6 MB 1.1 MB/s eta 0:00:50\n",
      "   -- ------------------------------------- 3.7/59.6 MB 1.1 MB/s eta 0:00:50\n",
      "   -- ------------------------------------- 3.9/59.6 MB 1.1 MB/s eta 0:00:50\n",
      "   -- ------------------------------------- 4.2/59.6 MB 1.2 MB/s eta 0:00:48\n",
      "   -- ------------------------------------- 4.2/59.6 MB 1.2 MB/s eta 0:00:48\n",
      "   --- ------------------------------------ 4.7/59.6 MB 1.2 MB/s eta 0:00:48\n",
      "   --- ------------------------------------ 4.7/59.6 MB 1.2 MB/s eta 0:00:48\n",
      "   --- ------------------------------------ 5.0/59.6 MB 1.1 MB/s eta 0:00:49\n",
      "   --- ------------------------------------ 5.2/59.6 MB 1.1 MB/s eta 0:00:49\n",
      "   --- ------------------------------------ 5.5/59.6 MB 1.1 MB/s eta 0:00:48\n",
      "   --- ------------------------------------ 5.5/59.6 MB 1.1 MB/s eta 0:00:48\n",
      "   --- ------------------------------------ 5.8/59.6 MB 1.1 MB/s eta 0:00:49\n",
      "   ---- ----------------------------------- 6.0/59.6 MB 1.1 MB/s eta 0:00:49\n",
      "   ---- ----------------------------------- 6.3/59.6 MB 1.1 MB/s eta 0:00:49\n",
      "   ---- ----------------------------------- 6.6/59.6 MB 1.1 MB/s eta 0:00:48\n",
      "   ---- ----------------------------------- 6.8/59.6 MB 1.1 MB/s eta 0:00:48\n",
      "   ---- ----------------------------------- 6.8/59.6 MB 1.1 MB/s eta 0:00:48\n",
      "   ---- ----------------------------------- 7.1/59.6 MB 1.1 MB/s eta 0:00:48\n",
      "   ---- ----------------------------------- 7.3/59.6 MB 1.1 MB/s eta 0:00:48\n",
      "   ----- ---------------------------------- 7.6/59.6 MB 1.1 MB/s eta 0:00:48\n",
      "   ----- ---------------------------------- 7.6/59.6 MB 1.1 MB/s eta 0:00:48\n",
      "   ----- ---------------------------------- 7.9/59.6 MB 1.1 MB/s eta 0:00:48\n",
      "   ----- ---------------------------------- 8.1/59.6 MB 1.1 MB/s eta 0:00:48\n",
      "   ----- ---------------------------------- 8.1/59.6 MB 1.1 MB/s eta 0:00:48\n",
      "   ----- ---------------------------------- 8.7/59.6 MB 1.1 MB/s eta 0:00:48\n",
      "   ----- ---------------------------------- 8.9/59.6 MB 1.1 MB/s eta 0:00:47\n",
      "   ------ --------------------------------- 9.2/59.6 MB 1.1 MB/s eta 0:00:46\n",
      "   ------ --------------------------------- 9.7/59.6 MB 1.1 MB/s eta 0:00:45\n",
      "   ------ --------------------------------- 10.0/59.6 MB 1.1 MB/s eta 0:00:44\n",
      "   ------- -------------------------------- 10.5/59.6 MB 1.2 MB/s eta 0:00:43\n",
      "   ------- -------------------------------- 10.7/59.6 MB 1.2 MB/s eta 0:00:42\n",
      "   ------- -------------------------------- 11.0/59.6 MB 1.2 MB/s eta 0:00:42\n",
      "   ------- -------------------------------- 11.3/59.6 MB 1.2 MB/s eta 0:00:41\n",
      "   ------- -------------------------------- 11.8/59.6 MB 1.2 MB/s eta 0:00:40\n",
      "   -------- ------------------------------- 12.1/59.6 MB 1.2 MB/s eta 0:00:40\n",
      "   -------- ------------------------------- 12.3/59.6 MB 1.2 MB/s eta 0:00:40\n",
      "   -------- ------------------------------- 12.3/59.6 MB 1.2 MB/s eta 0:00:40\n",
      "   -------- ------------------------------- 12.6/59.6 MB 1.2 MB/s eta 0:00:40\n",
      "   -------- ------------------------------- 12.8/59.6 MB 1.2 MB/s eta 0:00:40\n",
      "   -------- ------------------------------- 13.1/59.6 MB 1.2 MB/s eta 0:00:40\n",
      "   -------- ------------------------------- 13.4/59.6 MB 1.2 MB/s eta 0:00:39\n",
      "   --------- ------------------------------ 13.6/59.6 MB 1.2 MB/s eta 0:00:39\n",
      "   --------- ------------------------------ 13.9/59.6 MB 1.2 MB/s eta 0:00:39\n",
      "   --------- ------------------------------ 14.2/59.6 MB 1.2 MB/s eta 0:00:39\n",
      "   --------- ------------------------------ 14.4/59.6 MB 1.2 MB/s eta 0:00:38\n",
      "   --------- ------------------------------ 14.7/59.6 MB 1.2 MB/s eta 0:00:38\n",
      "   ---------- ----------------------------- 14.9/59.6 MB 1.2 MB/s eta 0:00:38\n",
      "   ---------- ----------------------------- 15.2/59.6 MB 1.2 MB/s eta 0:00:37\n",
      "   ---------- ----------------------------- 15.5/59.6 MB 1.2 MB/s eta 0:00:37\n",
      "   ---------- ----------------------------- 15.7/59.6 MB 1.2 MB/s eta 0:00:37\n",
      "   ---------- ----------------------------- 16.0/59.6 MB 1.2 MB/s eta 0:00:37\n",
      "   ---------- ----------------------------- 16.3/59.6 MB 1.2 MB/s eta 0:00:37\n",
      "   ----------- ---------------------------- 16.5/59.6 MB 1.2 MB/s eta 0:00:36\n",
      "   ----------- ---------------------------- 16.8/59.6 MB 1.2 MB/s eta 0:00:36\n",
      "   ----------- ---------------------------- 17.0/59.6 MB 1.2 MB/s eta 0:00:36\n",
      "   ----------- ---------------------------- 17.3/59.6 MB 1.2 MB/s eta 0:00:35\n",
      "   ----------- ---------------------------- 17.6/59.6 MB 1.2 MB/s eta 0:00:35\n",
      "   ----------- ---------------------------- 17.8/59.6 MB 1.2 MB/s eta 0:00:35\n",
      "   ------------ --------------------------- 18.4/59.6 MB 1.2 MB/s eta 0:00:34\n",
      "   ------------ --------------------------- 18.6/59.6 MB 1.2 MB/s eta 0:00:34\n",
      "   ------------ --------------------------- 19.1/59.6 MB 1.2 MB/s eta 0:00:33\n",
      "   ------------- -------------------------- 19.4/59.6 MB 1.2 MB/s eta 0:00:33\n",
      "   ------------- -------------------------- 19.9/59.6 MB 1.3 MB/s eta 0:00:32\n",
      "   ------------- -------------------------- 20.4/59.6 MB 1.3 MB/s eta 0:00:31\n",
      "   -------------- ------------------------- 21.0/59.6 MB 1.3 MB/s eta 0:00:30\n",
      "   -------------- ------------------------- 21.2/59.6 MB 1.3 MB/s eta 0:00:30\n",
      "   -------------- ------------------------- 21.5/59.6 MB 1.3 MB/s eta 0:00:30\n",
      "   -------------- ------------------------- 22.0/59.6 MB 1.3 MB/s eta 0:00:29\n",
      "   --------------- ------------------------ 22.5/59.6 MB 1.3 MB/s eta 0:00:29\n",
      "   --------------- ------------------------ 22.8/59.6 MB 1.3 MB/s eta 0:00:28\n",
      "   --------------- ------------------------ 23.3/59.6 MB 1.3 MB/s eta 0:00:28\n",
      "   --------------- ------------------------ 23.6/59.6 MB 1.3 MB/s eta 0:00:28\n",
      "   ---------------- ----------------------- 23.9/59.6 MB 1.3 MB/s eta 0:00:27\n",
      "   ---------------- ----------------------- 24.1/59.6 MB 1.3 MB/s eta 0:00:27\n",
      "   ---------------- ----------------------- 24.4/59.6 MB 1.3 MB/s eta 0:00:27\n",
      "   ---------------- ----------------------- 24.6/59.6 MB 1.3 MB/s eta 0:00:27\n",
      "   ---------------- ----------------------- 25.2/59.6 MB 1.3 MB/s eta 0:00:26\n",
      "   ----------------- ---------------------- 25.4/59.6 MB 1.3 MB/s eta 0:00:26\n",
      "   ----------------- ---------------------- 25.7/59.6 MB 1.3 MB/s eta 0:00:26\n",
      "   ----------------- ---------------------- 26.0/59.6 MB 1.3 MB/s eta 0:00:25\n",
      "   ----------------- ---------------------- 26.5/59.6 MB 1.4 MB/s eta 0:00:25\n",
      "   ------------------ --------------------- 27.0/59.6 MB 1.4 MB/s eta 0:00:24\n",
      "   ------------------ --------------------- 27.3/59.6 MB 1.4 MB/s eta 0:00:24\n",
      "   ------------------ --------------------- 27.5/59.6 MB 1.4 MB/s eta 0:00:24\n",
      "   ------------------ --------------------- 28.0/59.6 MB 1.4 MB/s eta 0:00:24\n",
      "   ------------------- -------------------- 28.3/59.6 MB 1.4 MB/s eta 0:00:23\n",
      "   ------------------- -------------------- 28.8/59.6 MB 1.4 MB/s eta 0:00:23\n",
      "   ------------------- -------------------- 29.1/59.6 MB 1.4 MB/s eta 0:00:23\n",
      "   ------------------- -------------------- 29.4/59.6 MB 1.4 MB/s eta 0:00:22\n",
      "   -------------------- ------------------- 29.9/59.6 MB 1.4 MB/s eta 0:00:22\n",
      "   -------------------- ------------------- 30.1/59.6 MB 1.4 MB/s eta 0:00:22\n",
      "   -------------------- ------------------- 30.4/59.6 MB 1.4 MB/s eta 0:00:21\n",
      "   -------------------- ------------------- 30.7/59.6 MB 1.4 MB/s eta 0:00:21\n",
      "   -------------------- ------------------- 30.9/59.6 MB 1.4 MB/s eta 0:00:21\n",
      "   -------------------- ------------------- 31.2/59.6 MB 1.4 MB/s eta 0:00:21\n",
      "   --------------------- ------------------ 31.5/59.6 MB 1.4 MB/s eta 0:00:21\n",
      "   --------------------- ------------------ 32.0/59.6 MB 1.4 MB/s eta 0:00:20\n",
      "   --------------------- ------------------ 32.2/59.6 MB 1.4 MB/s eta 0:00:20\n",
      "   --------------------- ------------------ 32.5/59.6 MB 1.4 MB/s eta 0:00:20\n",
      "   --------------------- ------------------ 32.8/59.6 MB 1.4 MB/s eta 0:00:20\n",
      "   ---------------------- ----------------- 33.3/59.6 MB 1.4 MB/s eta 0:00:19\n",
      "   ---------------------- ----------------- 33.8/59.6 MB 1.4 MB/s eta 0:00:19\n",
      "   ----------------------- ---------------- 34.3/59.6 MB 1.4 MB/s eta 0:00:18\n",
      "   ----------------------- ---------------- 34.6/59.6 MB 1.4 MB/s eta 0:00:18\n",
      "   ----------------------- ---------------- 34.9/59.6 MB 1.4 MB/s eta 0:00:18\n",
      "   ----------------------- ---------------- 35.4/59.6 MB 1.4 MB/s eta 0:00:17\n",
      "   ----------------------- ---------------- 35.7/59.6 MB 1.4 MB/s eta 0:00:17\n",
      "   ------------------------ --------------- 35.9/59.6 MB 1.4 MB/s eta 0:00:17\n",
      "   ------------------------ --------------- 36.2/59.6 MB 1.4 MB/s eta 0:00:17\n",
      "   ------------------------ --------------- 36.4/59.6 MB 1.4 MB/s eta 0:00:17\n",
      "   ------------------------ --------------- 36.7/59.6 MB 1.4 MB/s eta 0:00:17\n",
      "   ------------------------ --------------- 37.0/59.6 MB 1.4 MB/s eta 0:00:16\n",
      "   ------------------------ --------------- 37.2/59.6 MB 1.4 MB/s eta 0:00:16\n",
      "   ------------------------ --------------- 37.2/59.6 MB 1.4 MB/s eta 0:00:16\n",
      "   ------------------------- -------------- 37.5/59.6 MB 1.4 MB/s eta 0:00:16\n",
      "   ------------------------- -------------- 37.7/59.6 MB 1.4 MB/s eta 0:00:16\n",
      "   ------------------------- -------------- 38.3/59.6 MB 1.4 MB/s eta 0:00:16\n",
      "   ------------------------- -------------- 38.5/59.6 MB 1.4 MB/s eta 0:00:15\n",
      "   -------------------------- ------------- 38.8/59.6 MB 1.4 MB/s eta 0:00:15\n",
      "   -------------------------- ------------- 39.1/59.6 MB 1.4 MB/s eta 0:00:15\n",
      "   -------------------------- ------------- 39.3/59.6 MB 1.4 MB/s eta 0:00:15\n",
      "   -------------------------- ------------- 39.8/59.6 MB 1.4 MB/s eta 0:00:14\n",
      "   -------------------------- ------------- 39.8/59.6 MB 1.4 MB/s eta 0:00:14\n",
      "   --------------------------- ------------ 40.4/59.6 MB 1.4 MB/s eta 0:00:14\n",
      "   --------------------------- ------------ 40.9/59.6 MB 1.4 MB/s eta 0:00:14\n",
      "   --------------------------- ------------ 41.2/59.6 MB 1.4 MB/s eta 0:00:13\n",
      "   --------------------------- ------------ 41.4/59.6 MB 1.4 MB/s eta 0:00:13\n",
      "   ---------------------------- ----------- 41.9/59.6 MB 1.4 MB/s eta 0:00:13\n",
      "   ---------------------------- ----------- 42.2/59.6 MB 1.4 MB/s eta 0:00:13\n",
      "   ---------------------------- ----------- 42.5/59.6 MB 1.4 MB/s eta 0:00:12\n",
      "   ---------------------------- ----------- 43.0/59.6 MB 1.4 MB/s eta 0:00:12\n",
      "   ----------------------------- ---------- 43.3/59.6 MB 1.4 MB/s eta 0:00:12\n",
      "   ----------------------------- ---------- 43.8/59.6 MB 1.4 MB/s eta 0:00:11\n",
      "   ----------------------------- ---------- 44.3/59.6 MB 1.5 MB/s eta 0:00:11\n",
      "   ------------------------------ --------- 44.8/59.6 MB 1.5 MB/s eta 0:00:11\n",
      "   ------------------------------ --------- 45.1/59.6 MB 1.5 MB/s eta 0:00:10\n",
      "   ------------------------------ --------- 45.1/59.6 MB 1.5 MB/s eta 0:00:10\n",
      "   ------------------------------ --------- 45.4/59.6 MB 1.4 MB/s eta 0:00:10\n",
      "   ------------------------------ --------- 45.4/59.6 MB 1.4 MB/s eta 0:00:10\n",
      "   ------------------------------ --------- 45.6/59.6 MB 1.4 MB/s eta 0:00:10\n",
      "   ------------------------------ --------- 45.6/59.6 MB 1.4 MB/s eta 0:00:10\n",
      "   ------------------------------ --------- 45.6/59.6 MB 1.4 MB/s eta 0:00:10\n",
      "   ------------------------------ --------- 45.6/59.6 MB 1.4 MB/s eta 0:00:10\n",
      "   ------------------------------ --------- 46.1/59.6 MB 1.4 MB/s eta 0:00:10\n",
      "   ------------------------------ --------- 46.1/59.6 MB 1.4 MB/s eta 0:00:10\n",
      "   ------------------------------- -------- 46.4/59.6 MB 1.4 MB/s eta 0:00:10\n",
      "   ------------------------------- -------- 46.7/59.6 MB 1.4 MB/s eta 0:00:10\n",
      "   ------------------------------- -------- 46.7/59.6 MB 1.4 MB/s eta 0:00:10\n",
      "   ------------------------------- -------- 46.9/59.6 MB 1.4 MB/s eta 0:00:09\n",
      "   ------------------------------- -------- 47.2/59.6 MB 1.4 MB/s eta 0:00:09\n",
      "   ------------------------------- -------- 47.4/59.6 MB 1.4 MB/s eta 0:00:09\n",
      "   -------------------------------- ------- 47.7/59.6 MB 1.4 MB/s eta 0:00:09\n",
      "   -------------------------------- ------- 48.0/59.6 MB 1.4 MB/s eta 0:00:09\n",
      "   -------------------------------- ------- 48.2/59.6 MB 1.4 MB/s eta 0:00:08\n",
      "   -------------------------------- ------- 48.8/59.6 MB 1.4 MB/s eta 0:00:08\n",
      "   -------------------------------- ------- 49.0/59.6 MB 1.4 MB/s eta 0:00:08\n",
      "   --------------------------------- ------ 49.5/59.6 MB 1.5 MB/s eta 0:00:07\n",
      "   --------------------------------- ------ 49.8/59.6 MB 1.5 MB/s eta 0:00:07\n",
      "   --------------------------------- ------ 50.3/59.6 MB 1.5 MB/s eta 0:00:07\n",
      "   --------------------------------- ------ 50.6/59.6 MB 1.5 MB/s eta 0:00:07\n",
      "   ---------------------------------- ----- 50.9/59.6 MB 1.5 MB/s eta 0:00:06\n",
      "   ---------------------------------- ----- 51.1/59.6 MB 1.5 MB/s eta 0:00:06\n",
      "   ---------------------------------- ----- 51.4/59.6 MB 1.5 MB/s eta 0:00:06\n",
      "   ---------------------------------- ----- 51.6/59.6 MB 1.5 MB/s eta 0:00:06\n",
      "   ----------------------------------- ---- 52.2/59.6 MB 1.5 MB/s eta 0:00:05\n",
      "   ----------------------------------- ---- 52.4/59.6 MB 1.5 MB/s eta 0:00:05\n",
      "   ----------------------------------- ---- 52.7/59.6 MB 1.5 MB/s eta 0:00:05\n",
      "   ----------------------------------- ---- 53.0/59.6 MB 1.5 MB/s eta 0:00:05\n",
      "   ----------------------------------- ---- 53.2/59.6 MB 1.5 MB/s eta 0:00:05\n",
      "   ------------------------------------ --- 53.7/59.6 MB 1.5 MB/s eta 0:00:04\n",
      "   ------------------------------------ --- 54.0/59.6 MB 1.5 MB/s eta 0:00:04\n",
      "   ------------------------------------ --- 54.3/59.6 MB 1.5 MB/s eta 0:00:04\n",
      "   ------------------------------------ --- 54.5/59.6 MB 1.5 MB/s eta 0:00:04\n",
      "   ------------------------------------ --- 55.1/59.6 MB 1.5 MB/s eta 0:00:04\n",
      "   ------------------------------------- -- 55.3/59.6 MB 1.5 MB/s eta 0:00:03\n",
      "   ------------------------------------- -- 55.6/59.6 MB 1.5 MB/s eta 0:00:03\n",
      "   ------------------------------------- -- 55.8/59.6 MB 1.5 MB/s eta 0:00:03\n",
      "   ------------------------------------- -- 56.1/59.6 MB 1.5 MB/s eta 0:00:03\n",
      "   ------------------------------------- -- 56.4/59.6 MB 1.5 MB/s eta 0:00:03\n",
      "   ------------------------------------- -- 56.4/59.6 MB 1.5 MB/s eta 0:00:03\n",
      "   -------------------------------------- - 56.6/59.6 MB 1.5 MB/s eta 0:00:03\n",
      "   -------------------------------------- - 56.9/59.6 MB 1.5 MB/s eta 0:00:02\n",
      "   -------------------------------------- - 57.1/59.6 MB 1.5 MB/s eta 0:00:02\n",
      "   -------------------------------------- - 57.4/59.6 MB 1.5 MB/s eta 0:00:02\n",
      "   -------------------------------------- - 57.7/59.6 MB 1.5 MB/s eta 0:00:02\n",
      "   -------------------------------------- - 57.9/59.6 MB 1.5 MB/s eta 0:00:02\n",
      "   ---------------------------------------  58.2/59.6 MB 1.5 MB/s eta 0:00:01\n",
      "   ---------------------------------------  58.5/59.6 MB 1.5 MB/s eta 0:00:01\n",
      "   ---------------------------------------  58.7/59.6 MB 1.5 MB/s eta 0:00:01\n",
      "   ---------------------------------------  59.0/59.6 MB 1.5 MB/s eta 0:00:01\n",
      "   ---------------------------------------  59.5/59.6 MB 1.5 MB/s eta 0:00:01\n",
      "   ---------------------------------------- 59.6/59.6 MB 1.5 MB/s eta 0:00:00\n",
      "Downloading gradio_client-1.12.1-py3-none-any.whl (324 kB)\n",
      "Using cached jinja2-3.1.6-py3-none-any.whl (134 kB)\n",
      "Downloading aiofiles-24.1.0-py3-none-any.whl (15 kB)\n",
      "Using cached anyio-4.10.0-py3-none-any.whl (107 kB)\n",
      "Downloading Brotli-1.1.0-cp312-cp312-win_amd64.whl (357 kB)\n",
      "Using cached fastapi-0.116.1-py3-none-any.whl (95 kB)\n",
      "Downloading groovy-0.1.2-py3-none-any.whl (14 kB)\n",
      "Using cached httpx-0.28.1-py3-none-any.whl (73 kB)\n",
      "Using cached httpcore-1.0.9-py3-none-any.whl (78 kB)\n",
      "Using cached huggingface_hub-0.34.4-py3-none-any.whl (561 kB)\n",
      "Using cached orjson-3.11.2-cp312-cp312-win_amd64.whl (119 kB)\n",
      "Using cached pydantic-2.11.7-py3-none-any.whl (444 kB)\n",
      "Using cached pydantic_core-2.33.2-cp312-cp312-win_amd64.whl (2.0 MB)\n",
      "Downloading python_multipart-0.0.20-py3-none-any.whl (24 kB)\n",
      "Using cached PyYAML-6.0.2-cp312-cp312-win_amd64.whl (156 kB)\n",
      "Downloading ruff-0.12.10-py3-none-win_amd64.whl (13.0 MB)\n",
      "   ---------------------------------------- 0.0/13.0 MB ? eta -:--:--\n",
      "    --------------------------------------- 0.3/13.0 MB ? eta -:--:--\n",
      "   - -------------------------------------- 0.5/13.0 MB 1.9 MB/s eta 0:00:07\n",
      "   --- ------------------------------------ 1.0/13.0 MB 2.0 MB/s eta 0:00:06\n",
      "   ---- ----------------------------------- 1.6/13.0 MB 2.0 MB/s eta 0:00:06\n",
      "   ----- ---------------------------------- 1.8/13.0 MB 2.1 MB/s eta 0:00:06\n",
      "   ------ --------------------------------- 2.1/13.0 MB 2.0 MB/s eta 0:00:06\n",
      "   ------- -------------------------------- 2.4/13.0 MB 1.9 MB/s eta 0:00:06\n",
      "   -------- ------------------------------- 2.6/13.0 MB 1.7 MB/s eta 0:00:07\n",
      "   -------- ------------------------------- 2.9/13.0 MB 1.7 MB/s eta 0:00:06\n",
      "   ---------- ----------------------------- 3.4/13.0 MB 1.7 MB/s eta 0:00:06\n",
      "   ----------- ---------------------------- 3.7/13.0 MB 1.7 MB/s eta 0:00:06\n",
      "   ------------ --------------------------- 3.9/13.0 MB 1.7 MB/s eta 0:00:06\n",
      "   ------------ --------------------------- 4.2/13.0 MB 1.7 MB/s eta 0:00:06\n",
      "   -------------- ------------------------- 4.7/13.0 MB 1.7 MB/s eta 0:00:05\n",
      "   --------------- ------------------------ 5.0/13.0 MB 1.6 MB/s eta 0:00:05\n",
      "   ---------------- ----------------------- 5.2/13.0 MB 1.6 MB/s eta 0:00:05\n",
      "   ----------------- ---------------------- 5.8/13.0 MB 1.7 MB/s eta 0:00:05\n",
      "   ------------------ --------------------- 6.0/13.0 MB 1.7 MB/s eta 0:00:05\n",
      "   ------------------- -------------------- 6.3/13.0 MB 1.7 MB/s eta 0:00:05\n",
      "   -------------------- ------------------- 6.8/13.0 MB 1.7 MB/s eta 0:00:04\n",
      "   --------------------- ------------------ 7.1/13.0 MB 1.7 MB/s eta 0:00:04\n",
      "   ---------------------- ----------------- 7.3/13.0 MB 1.7 MB/s eta 0:00:04\n",
      "   ------------------------ --------------- 7.9/13.0 MB 1.7 MB/s eta 0:00:04\n",
      "   ------------------------ --------------- 8.1/13.0 MB 1.7 MB/s eta 0:00:03\n",
      "   -------------------------- ------------- 8.7/13.0 MB 1.7 MB/s eta 0:00:03\n",
      "   -------------------------- ------------- 8.7/13.0 MB 1.7 MB/s eta 0:00:03\n",
      "   ---------------------------- ----------- 9.2/13.0 MB 1.7 MB/s eta 0:00:03\n",
      "   ----------------------------- ---------- 9.4/13.0 MB 1.7 MB/s eta 0:00:03\n",
      "   ------------------------------ --------- 10.0/13.0 MB 1.7 MB/s eta 0:00:02\n",
      "   -------------------------------- ------- 10.5/13.0 MB 1.7 MB/s eta 0:00:02\n",
      "   -------------------------------- ------- 10.5/13.0 MB 1.7 MB/s eta 0:00:02\n",
      "   --------------------------------- ------ 11.0/13.0 MB 1.7 MB/s eta 0:00:02\n",
      "   ----------------------------------- ---- 11.5/13.0 MB 1.7 MB/s eta 0:00:01\n",
      "   ------------------------------------ --- 11.8/13.0 MB 1.7 MB/s eta 0:00:01\n",
      "   ------------------------------------- -- 12.3/13.0 MB 1.7 MB/s eta 0:00:01\n",
      "   -------------------------------------- - 12.6/13.0 MB 1.7 MB/s eta 0:00:01\n",
      "   ---------------------------------------- 13.0/13.0 MB 1.7 MB/s eta 0:00:00\n",
      "Downloading safehttpx-0.1.6-py3-none-any.whl (8.7 kB)\n",
      "Downloading semantic_version-2.10.0-py2.py3-none-any.whl (15 kB)\n",
      "Downloading starlette-0.47.2-py3-none-any.whl (72 kB)\n",
      "Downloading tomlkit-0.13.3-py3-none-any.whl (38 kB)\n",
      "Downloading typer-0.16.1-py3-none-any.whl (46 kB)\n",
      "Using cached uvicorn-0.35.0-py3-none-any.whl (66 kB)\n",
      "Downloading ffmpy-0.6.1-py3-none-any.whl (5.5 kB)\n",
      "Downloading pydub-0.25.1-py2.py3-none-any.whl (32 kB)\n",
      "Using cached annotated_types-0.7.0-py3-none-any.whl (13 kB)\n",
      "Using cached click-8.2.1-py3-none-any.whl (102 kB)\n",
      "Using cached fsspec-2025.7.0-py3-none-any.whl (199 kB)\n",
      "Using cached h11-0.16.0-py3-none-any.whl (37 kB)\n",
      "Using cached shellingham-1.5.4-py2.py3-none-any.whl (9.8 kB)\n",
      "Using cached sniffio-1.3.1-py3-none-any.whl (10 kB)\n",
      "Using cached tqdm-4.67.1-py3-none-any.whl (78 kB)\n",
      "Using cached typing_inspection-0.4.1-py3-none-any.whl (14 kB)\n",
      "Downloading websockets-15.0.1-cp312-cp312-win_amd64.whl (176 kB)\n",
      "Using cached filelock-3.19.1-py3-none-any.whl (15 kB)\n",
      "Installing collected packages: pydub, brotli, websockets, typing-inspection, tqdm, tomlkit, sniffio, shellingham, semantic-version, ruff, pyyaml, python-multipart, pydantic-core, orjson, jinja2, h11, groovy, fsspec, filelock, ffmpy, click, annotated-types, aiofiles, uvicorn, pydantic, huggingface-hub, httpcore, anyio, typer, starlette, httpx, safehttpx, gradio-client, fastapi, gradio\n",
      "Successfully installed aiofiles-24.1.0 annotated-types-0.7.0 anyio-4.10.0 brotli-1.1.0 click-8.2.1 fastapi-0.116.1 ffmpy-0.6.1 filelock-3.19.1 fsspec-2025.7.0 gradio-5.43.1 gradio-client-1.12.1 groovy-0.1.2 h11-0.16.0 httpcore-1.0.9 httpx-0.28.1 huggingface-hub-0.34.4 jinja2-3.1.6 orjson-3.11.2 pydantic-2.11.7 pydantic-core-2.33.2 pydub-0.25.1 python-multipart-0.0.20 pyyaml-6.0.2 ruff-0.12.10 safehttpx-0.1.6 semantic-version-2.10.0 shellingham-1.5.4 sniffio-1.3.1 starlette-0.47.2 tomlkit-0.13.3 tqdm-4.67.1 typer-0.16.1 typing-inspection-0.4.1 uvicorn-0.35.0 websockets-15.0.1\n",
      "Note: you may need to restart the kernel to use updated packages.\n"
     ]
    },
    {
     "name": "stderr",
     "output_type": "stream",
     "text": [
      "\n",
      "[notice] A new release of pip is available: 24.2 -> 25.2\n",
      "[notice] To update, run: python.exe -m pip install --upgrade pip\n"
     ]
    }
   ],
   "source": [
    "%pip install gradio jinja2"
   ]
  },
  {
   "cell_type": "code",
   "execution_count": 37,
   "metadata": {},
   "outputs": [
    {
     "name": "stderr",
     "output_type": "stream",
     "text": [
      "c:\\Users\\Lenovo\\Documents\\New folder\\myenv\\Lib\\site-packages\\tqdm\\auto.py:21: TqdmWarning: IProgress not found. Please update jupyter and ipywidgets. See https://ipywidgets.readthedocs.io/en/stable/user_install.html\n",
      "  from .autonotebook import tqdm as notebook_tqdm\n"
     ]
    }
   ],
   "source": [
    "import gradio as gr "
   ]
  },
  {
   "cell_type": "code",
   "execution_count": 38,
   "metadata": {},
   "outputs": [
    {
     "name": "stderr",
     "output_type": "stream",
     "text": [
      "WARNING:absl:Compiled the loaded model, but the compiled metrics have yet to be built. `model.compile_metrics` will be empty until you train or evaluate the model.\n"
     ]
    }
   ],
   "source": [
    "model = tf.keras.models.load_model(\"toxicity_grader.h5\")"
   ]
  },
  {
   "cell_type": "code",
   "execution_count": 39,
   "metadata": {},
   "outputs": [],
   "source": [
    "input_str = vectorizer('hey i freaken hate you!')"
   ]
  },
  {
   "cell_type": "code",
   "execution_count": 40,
   "metadata": {},
   "outputs": [
    {
     "name": "stdout",
     "output_type": "stream",
     "text": [
      "\u001b[1m1/1\u001b[0m \u001b[32m━━━━━━━━━━━━━━━━━━━━\u001b[0m\u001b[37m\u001b[0m \u001b[1m0s\u001b[0m 311ms/step\n"
     ]
    }
   ],
   "source": [
    "res = model.predict(np.expand_dims(input_str,0))"
   ]
  },
  {
   "cell_type": "code",
   "execution_count": 41,
   "metadata": {},
   "outputs": [
    {
     "data": {
      "text/plain": [
       "array([[0.533648  , 0.01270217, 0.19261786, 0.02395047, 0.22603977,\n",
       "        0.04577452]], dtype=float32)"
      ]
     },
     "execution_count": 41,
     "metadata": {},
     "output_type": "execute_result"
    }
   ],
   "source": [
    "res"
   ]
  },
  {
   "cell_type": "code",
   "execution_count": 42,
   "metadata": {},
   "outputs": [],
   "source": [
    "def score_comment(comment):\n",
    "    vectorized_comment = vectorizer([comment])\n",
    "    results = model.predict(vectorized_comment)\n",
    "    \n",
    "    text = ''\n",
    "    for idx, col in enumerate(df.columns[2:]):\n",
    "        text += '{}: {}\\n'.format(col, results[0][idx]>0.5)\n",
    "    \n",
    "    return text"
   ]
  },
  {
   "cell_type": "code",
   "execution_count": 44,
   "metadata": {},
   "outputs": [],
   "source": [
    "import gradio as gr\n",
    "\n",
    "interface = gr.Interface(\n",
    "    fn=score_comment,\n",
    "    inputs=gr.Textbox(lines=2, placeholder=\"Comment to score\"),\n",
    "    outputs=gr.Textbox()\n",
    ")"
   ]
  },
  {
   "cell_type": "code",
   "execution_count": 45,
   "metadata": {},
   "outputs": [
    {
     "name": "stdout",
     "output_type": "stream",
     "text": [
      "* Running on local URL:  http://127.0.0.1:7860\n",
      "* Running on public URL: https://372737453f2d17fadf.gradio.live\n",
      "\n",
      "This share link expires in 1 week. For free permanent hosting and GPU upgrades, run `gradio deploy` from the terminal in the working directory to deploy to Hugging Face Spaces (https://huggingface.co/spaces)\n"
     ]
    },
    {
     "data": {
      "text/html": [
       "<div><iframe src=\"https://372737453f2d17fadf.gradio.live\" width=\"100%\" height=\"500\" allow=\"autoplay; camera; microphone; clipboard-read; clipboard-write;\" frameborder=\"0\" allowfullscreen></iframe></div>"
      ],
      "text/plain": [
       "<IPython.core.display.HTML object>"
      ]
     },
     "metadata": {},
     "output_type": "display_data"
    },
    {
     "data": {
      "text/plain": []
     },
     "execution_count": 45,
     "metadata": {},
     "output_type": "execute_result"
    }
   ],
   "source": [
    "interface.launch(share=True)"
   ]
  }
 ],
 "metadata": {
  "kernelspec": {
   "display_name": "myenv",
   "language": "python",
   "name": "python3"
  },
  "language_info": {
   "codemirror_mode": {
    "name": "ipython",
    "version": 3
   },
   "file_extension": ".py",
   "mimetype": "text/x-python",
   "name": "python",
   "nbconvert_exporter": "python",
   "pygments_lexer": "ipython3",
   "version": "3.12.7"
  },
  "orig_nbformat": 4
 },
 "nbformat": 4,
 "nbformat_minor": 2
}
